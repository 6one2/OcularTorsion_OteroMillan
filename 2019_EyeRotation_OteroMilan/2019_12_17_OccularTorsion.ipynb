{
 "cells": [
  {
   "cell_type": "markdown",
   "metadata": {},
   "source": [
    "---\n",
    "# Ocular Torsion analysis based on eye tracker video\n",
    "> Otero-Millan, J., Roberts, D. C., Lasker, A., Zee, D. S., & Kheradmand, A. (2015). Knowing what the brain is seeing in three dimensions: A novel, noninvasive, sensitive, accurate, and low-noise technique for measuring ocular torsion. Journal of Vision, 15(14), 1–15. https://doi.org/10.1167/15.14.11"
   ]
  },
  {
   "cell_type": "markdown",
   "metadata": {},
   "source": [
    "## Set up Import & Function"
   ]
  },
  {
   "cell_type": "code",
   "execution_count": 7,
   "metadata": {},
   "outputs": [],
   "source": [
    "import numpy as np\n",
    "import cv2\n",
    "import matplotlib.pyplot as plt\n",
    "import pandas as pd\n",
    "import random\n",
    "\n",
    "def sp_noise(image,prob):\n",
    "    '''\n",
    "    Add salt and pepper noise to image\n",
    "    prob: Probability of the noise\n",
    "    '''\n",
    "    output = np.zeros(image.shape,np.uint8)\n",
    "    thres = 1 - prob \n",
    "    for i in range(image.shape[0]):\n",
    "        for j in range(image.shape[1]):\n",
    "            rdn = random.random()\n",
    "            if rdn < prob:\n",
    "                output[i][j] = 0\n",
    "            elif rdn > thres:\n",
    "                output[i][j] = 255\n",
    "            else:\n",
    "                output[i][j] = image[i][j]\n",
    "    return output\n",
    "\n",
    "\n",
    "def ConMask(canny, c, size):\n",
    "    '''\n",
    "    Find longest edge over a Region of Interest\n",
    "    canny: image with Canny edges\n",
    "    size: size of the ROI\n",
    "    '''\n",
    "    w,h=canny.shape\n",
    "    ww,hh=size\n",
    "    mask = np.zeros((w, h, 1), dtype='uint8')\n",
    "    cv2.rectangle(mask,c,(c[0]+ww,c[1]+hh),255,-1)\n",
    "    Ed = cv2.bitwise_and(canny,canny, mask=mask)\n",
    "    cc = cv2.findContours(Ed,cv2.RETR_TREE, cv2.CHAIN_APPROX_NONE)\n",
    "    cnt = cc[0][np.argmax([len(i) for i in cc[0]])]\n",
    "    \n",
    "    return cnt\n",
    "\n",
    "def ParaFit(x,y,width,buffer):\n",
    "    '''\n",
    "    Fit parabols in pixels to edges found with ConMask\n",
    "    add buffer to make mask overlap image\n",
    "    '''\n",
    "    coef = np.polyfit(x,y,2)\n",
    "    xTh = np.arange(0,width, dtype='int')\n",
    "    pTh = np.poly1d(coef)\n",
    "    yTh = pTh(xTh)\n",
    "    \n",
    "    i=int(buffer)\n",
    "    yTh[yTh<50] = yTh[yTh<50]+i\n",
    "    yTh[yTh>=50] = yTh[yTh>=50]-i\n",
    "    \n",
    "    return np.dstack((xTh,yTh.astype(int)))\n",
    "\n",
    "def getGradientMagnitude(im, ratio=0.5):\n",
    "    '''\n",
    "    Get magnitude of gradient for given image\n",
    "    '''\n",
    "    ddepth = cv2.CV_32F\n",
    "    ksize=3\n",
    "    dx = cv2.Sobel(im, ddepth, 1, 0,ksize)\n",
    "#     dx[dx>50]=0\n",
    "    dy = cv2.Sobel(im, ddepth, 0, 1,ksize)\n",
    "    dxabs = cv2.convertScaleAbs(dx)\n",
    "    dyabs = cv2.convertScaleAbs(dy)\n",
    "#     ratio=0.5\n",
    "    mag = cv2.addWeighted(dxabs, ratio, dyabs, 1-ratio, gamma=0)\n",
    "    \n",
    "    return mag, dxabs, dyabs\n",
    "\n",
    "# Various Constant\n",
    "index = -1\n",
    "thickness = 2\n",
    "color1 = (0,0,255)\n",
    "color2 = (255,0,0)\n",
    "thresh=59\n",
    "kernel = (7,7)\n",
    "buffer=2\n",
    "winSize=(360,60)\n",
    "mir=25"
   ]
  },
  {
   "cell_type": "code",
   "execution_count": 3,
   "metadata": {},
   "outputs": [
    {
     "name": "stdout",
     "output_type": "stream",
     "text": [
      "Using matplotlib backend: MacOSX\n"
     ]
    }
   ],
   "source": [
    "%matplotlib auto"
   ]
  },
  {
   "cell_type": "code",
   "execution_count": 4,
   "metadata": {},
   "outputs": [],
   "source": [
    "readfile = '../video/GVS_2Hz.mov'"
   ]
  },
  {
   "cell_type": "markdown",
   "metadata": {},
   "source": [
    "# __One Frame Analysis__"
   ]
  },
  {
   "cell_type": "markdown",
   "metadata": {},
   "source": [
    "## Set up\n",
    "gather information from Frame to analyze\n",
    "constant for plotting\n",
    "and basic image manipulation for analysis (gray image and blur)"
   ]
  },
  {
   "cell_type": "code",
   "execution_count": 5,
   "metadata": {},
   "outputs": [],
   "source": [
    "cap = cv2.VideoCapture(readfile)\n",
    "read_flag, frame = cap.read()\n",
    "cap.release()\n",
    "\n",
    "FR=frame.copy()\n",
    "\n",
    "w, h = frame.shape[:2]\n",
    "\n",
    "gray = cv2.cvtColor(frame,cv2.COLOR_RGB2GRAY)\n",
    "blur = cv2.GaussianBlur(gray,kernel,0)\n",
    "cl1 = cv2.createCLAHE(clipLimit=2.0, tileGridSize=(8,8))\n",
    "clahe = cl1.apply(gray)\n",
    "# gNoise = cv2.GaussianBlur(sp_noise(gray,0.2),kernel,0)\n",
    "\n",
    "if True:\n",
    "    cv2.imshow('Gray',gray)\n",
    "    cv2.imshow('CLAHE',clahe)\n",
    "    cv2.waitKey(0)\n",
    "    cv2.destroyAllWindows()\n"
   ]
  },
  {
   "cell_type": "markdown",
   "metadata": {},
   "source": [
    "## Eyelib detection and mask creation\n",
    "\n",
    " - find edges\n",
    " - define 4 windows for eyelid edge detection\n",
    " - find contours over the 4 windows\n",
    " - consolidate Top contours and Bottom contours\n",
    " - Fit parabols and create area of Interest"
   ]
  },
  {
   "cell_type": "code",
   "execution_count": 8,
   "metadata": {},
   "outputs": [],
   "source": [
    "imOI = blur\n",
    "edges = cv2.Canny(imOI,80,130,apertureSize = 3)\n",
    "\n",
    "# region of interest (ROI)\n",
    "ww=int(w/5)\n",
    "hh=int(h/2-5)\n",
    "\n",
    "if True:\n",
    "    c1 = (int(w/4-ww),int(0))#Top-left\n",
    "    c2 = (int(w/4-ww),int(h)-hh)#Bottom-left\n",
    "    c3 = (int(3*w/4-ww),int(0))#Top-right\n",
    "    c4 = (int(3*w/4-ww),int(h)-hh)#Bottom-right\n",
    "\n",
    "## creating masks and contours over ROI\n",
    "cnt1 = ConMask(edges, c1, (ww,hh))\n",
    "cnt2 = ConMask(edges, c2, (ww,hh))\n",
    "cnt3 = ConMask(edges, c3, (2*ww,hh))\n",
    "cnt4 = ConMask(edges, c4, (2*ww,hh))\n",
    "\n",
    "## X and Y of all contours\n",
    "xTop = [k[0][0] for k in cnt1]\n",
    "xTop.extend([k[0][0] for k in cnt3])\n",
    "yTop = [k[0][1] for k in cnt1]\n",
    "yTop.extend([k[0][1] for k in cnt3])\n",
    "\n",
    "xBot = [k[0][0] for k in cnt2]\n",
    "xBot.extend([k[0][0] for k in cnt4])\n",
    "yBot = [k[0][1] for k in cnt2]\n",
    "yBot.extend([k[0][1] for k in cnt4])\n",
    "\n",
    "## polyfit\n",
    "Top = ParaFit(xTop,yTop,w,buffer)\n",
    "Bot = ParaFit(xBot,yBot,w,buffer)\n",
    "EyeLid = np.vstack((Top.reshape(100,2),np.flip(Bot.reshape(100,2),0)))\n",
    "\n",
    "## mask for EyeLid - eMask\n",
    "eMask = np.zeros((w, h, 1), dtype='uint8')\n",
    "cv2.fillPoly(eMask,[EyeLid],255)\n",
    "\n",
    "## mask for Reflexions - rMask\n",
    "negFR = cv2.bitwise_not(gray)\n",
    "_, rMask = cv2.threshold(negFR,thresh,255,cv2.THRESH_BINARY)\n",
    "\n",
    "# erosion for larger mask\n",
    "kM = np.ones((buffer,buffer),np.uint8)\n",
    "rMask = cv2.erode(rMask,kM,iterations = 1)\n",
    "\n",
    "Mask = cv2.bitwise_and(eMask,rMask)\n",
    "\n",
    "if True:\n",
    "    ## draw the contours\n",
    "    cv2.drawContours(FR,[EyeLid], index,color1,1)\n",
    "    cv2.drawContours(FR, cnt1, index, color2, 2)\n",
    "    cv2.drawContours(FR, cnt2, index, color2, 2)\n",
    "    cv2.drawContours(FR, cnt3, index, color2, 2)\n",
    "    cv2.drawContours(FR, cnt4, index, color2, 2)\n",
    "    \n",
    "    cv2.imshow('Eyelid Contours',FR)\n",
    "    cv2.imshow('Reflexions',rMask)\n",
    "    cv2.imshow('Mask',Mask)\n",
    "    \n",
    "    cv2.waitKey(0)\n",
    "    cv2.destroyAllWindows()\n"
   ]
  },
  {
   "cell_type": "markdown",
   "metadata": {},
   "source": [
    "## Pupil detection"
   ]
  },
  {
   "cell_type": "code",
   "execution_count": 6,
   "metadata": {},
   "outputs": [],
   "source": [
    "## Pupil detection\n",
    "_, pupil = cv2.threshold(gray,thresh,255,cv2.THRESH_BINARY_INV)\n",
    "contoursP, _ = cv2.findContours(pupil, cv2.RETR_TREE, cv2.CHAIN_APPROX_NONE)\n",
    "\n",
    "for c in contoursP:\n",
    "    if len(c)<4:\n",
    "        continue\n",
    "    \n",
    "    area = cv2.contourArea(c)\n",
    "    \n",
    "    if area<200:\n",
    "        continue\n",
    "    \n",
    "    peri = cv2.arcLength(c, True)\n",
    "    AA = area\n",
    "    M = cv2.moments(c)# check moments of an image for centroids calculation\n",
    "    cx = int(M['m10']/M['m00'])\n",
    "    cy = int(M['m01']/M['m00'])\n",
    "    cv2.drawContours(FR,c,index,color1,1)\n",
    "\n",
    "   \n",
    "## Polar Transform\n",
    "radius = np.array([cx, w-cx]).max()\n",
    "Mag = w/np.log(radius)\n",
    "\n",
    "# grayPL = cv2.logPolar(gray,(cx,cy),Mag, flags=cv2.INTER_LINEAR + cv2.WARP_FILL_OUTLIERS)\n",
    "grayPL = cv2.logPolar(clahe,(cx,cy),Mag, flags=cv2.INTER_LINEAR + cv2.WARP_FILL_OUTLIERS) #  polar transform of high constrast image\n",
    "rGray_PL = cv2.rotate(grayPL, cv2.ROTATE_90_CLOCKWISE) # rotated polar transformed image\n",
    "\n",
    "maskPl = cv2.logPolar(Mask,(cx,cy),Mag, flags=cv2.INTER_LINEAR + cv2.WARP_FILL_OUTLIERS)\n",
    "rMask_PL = cv2.rotate(maskPl, cv2.ROTATE_90_CLOCKWISE)\n",
    "\n",
    "\n",
    "## max Pupil size over planar representation - mPSz\n",
    "ePL = cv2.Canny(rGray_PL,50,150,apertureSize = 3)\n",
    "cc = cv2.findContours(ePL,cv2.RETR_TREE, cv2.CHAIN_APPROX_NONE)\n",
    "cntPl = cc[0][np.argmax([len(i) for i in cc[0]])]\n",
    "mPSz = np.array([k[0][1] for k in cntPl]).max()\n",
    "\n",
    "ResG = rGray_PL[mPSz+buffer:,:w]\n",
    "ResM = rMask_PL[mPSz+buffer:,:w]\n",
    "\n",
    "nResG = cv2.bitwise_and(ResG,ResG, mask=ResM)\n",
    "# nResN = cv2.GaussianBlur(sp_noise(nResG,0.2),kernel,0)\n",
    "# nResN = cv2.bitwise_and(nResN,nResN, mask=cv2.bitwise_not(ResM))\n",
    "\n",
    "\n",
    "if True:\n",
    "    cv2.drawMarker(FR,(cx,cy),color1)\n",
    "    cv2.imshow('Pupil', FR)\n",
    "    cv2.imshow('Polar transform Image', nResG)\n",
    "    cv2.imshow('Polar transform Mask', ResM)\n",
    "    \n",
    "    cv2.waitKey(0)\n",
    "    cv2.destroyAllWindows()"
   ]
  },
  {
   "cell_type": "markdown",
   "metadata": {},
   "source": [
    "## Sobel Filtering"
   ]
  },
  {
   "cell_type": "code",
   "execution_count": 11,
   "metadata": {},
   "outputs": [],
   "source": [
    "Mg, dxabs, dyabs = getGradientMagnitude(nResG, ratio=0.5)\n",
    "# Mg=cv2.Canny(nResG,85,95,apertureSize=5)\n",
    "# Mg=nResG\n",
    "\n",
    "## Add some noise to mask\n",
    "ResN = cv2.GaussianBlur(sp_noise(Mg,0.5),(3,3),0)\n",
    "ResN = cv2.bitwise_and(ResN,ResN, mask=cv2.bitwise_not(ResM))\n",
    "\n",
    "nMg = cv2.bitwise_and(Mg,Mg,mask=ResM)\n",
    "TPL = nMg+ResN\n",
    "TPL = cv2.resize(TPL,winSize)\n",
    "\n",
    "if True:\n",
    "    plt.figure()\n",
    "    plt.subplot(2,1,1)\n",
    "    plt.imshow(nResG,cmap='gray')\n",
    "    plt.subplot(2,1,2)\n",
    "    plt.imshow(Mg,cmap='gray')\n",
    "    \n",
    "    plt.figure()\n",
    "    plt.subplot(2,1,1)\n",
    "    plt.imshow(ResN,cmap='gray')\n",
    "    plt.subplot(2,1,2)\n",
    "    plt.imshow(TPL,cmap='gray')\n"
   ]
  },
  {
   "cell_type": "code",
   "execution_count": null,
   "metadata": {},
   "outputs": [],
   "source": []
  },
  {
   "cell_type": "markdown",
   "metadata": {},
   "source": [
    "# Full Video Analysis"
   ]
  },
  {
   "cell_type": "code",
   "execution_count": 20,
   "metadata": {},
   "outputs": [
    {
     "ename": "AttributeError",
     "evalue": "'NoneType' object has no attribute 'shape'",
     "output_type": "error",
     "traceback": [
      "\u001b[0;31m---------------------------------------------------------------------------\u001b[0m",
      "\u001b[0;31mAttributeError\u001b[0m                            Traceback (most recent call last)",
      "\u001b[0;32m<ipython-input-20-3a08562c8197>\u001b[0m in \u001b[0;36m<module>\u001b[0;34m\u001b[0m\n\u001b[1;32m    103\u001b[0m     \u001b[0mMg\u001b[0m \u001b[0;34m=\u001b[0m \u001b[0mnResG\u001b[0m\u001b[0;34m\u001b[0m\u001b[0;34m\u001b[0m\u001b[0m\n\u001b[1;32m    104\u001b[0m \u001b[0;34m\u001b[0m\u001b[0m\n\u001b[0;32m--> 105\u001b[0;31m     \u001b[0mResN\u001b[0m \u001b[0;34m=\u001b[0m \u001b[0mcv2\u001b[0m\u001b[0;34m.\u001b[0m\u001b[0mGaussianBlur\u001b[0m\u001b[0;34m(\u001b[0m\u001b[0msp_noise\u001b[0m\u001b[0;34m(\u001b[0m\u001b[0mMg\u001b[0m\u001b[0;34m,\u001b[0m\u001b[0;36m0.1\u001b[0m\u001b[0;34m)\u001b[0m\u001b[0;34m,\u001b[0m\u001b[0;34m(\u001b[0m\u001b[0;36m3\u001b[0m\u001b[0;34m,\u001b[0m\u001b[0;36m3\u001b[0m\u001b[0;34m)\u001b[0m\u001b[0;34m,\u001b[0m\u001b[0;36m0\u001b[0m\u001b[0;34m)\u001b[0m\u001b[0;34m\u001b[0m\u001b[0;34m\u001b[0m\u001b[0m\n\u001b[0m\u001b[1;32m    106\u001b[0m     \u001b[0mResN\u001b[0m \u001b[0;34m=\u001b[0m \u001b[0mcv2\u001b[0m\u001b[0;34m.\u001b[0m\u001b[0mbitwise_and\u001b[0m\u001b[0;34m(\u001b[0m\u001b[0mResN\u001b[0m\u001b[0;34m,\u001b[0m\u001b[0mResN\u001b[0m\u001b[0;34m,\u001b[0m \u001b[0mmask\u001b[0m\u001b[0;34m=\u001b[0m\u001b[0mcv2\u001b[0m\u001b[0;34m.\u001b[0m\u001b[0mbitwise_not\u001b[0m\u001b[0;34m(\u001b[0m\u001b[0mResM\u001b[0m\u001b[0;34m)\u001b[0m\u001b[0;34m)\u001b[0m\u001b[0;34m\u001b[0m\u001b[0;34m\u001b[0m\u001b[0m\n\u001b[1;32m    107\u001b[0m     \u001b[0mnMg\u001b[0m \u001b[0;34m=\u001b[0m \u001b[0mcv2\u001b[0m\u001b[0;34m.\u001b[0m\u001b[0mbitwise_and\u001b[0m\u001b[0;34m(\u001b[0m\u001b[0mMg\u001b[0m\u001b[0;34m,\u001b[0m\u001b[0mMg\u001b[0m\u001b[0;34m,\u001b[0m\u001b[0mmask\u001b[0m\u001b[0;34m=\u001b[0m\u001b[0mResM\u001b[0m\u001b[0;34m)\u001b[0m\u001b[0;34m\u001b[0m\u001b[0;34m\u001b[0m\u001b[0m\n",
      "\u001b[0;32m<ipython-input-10-8f42d97dd06f>\u001b[0m in \u001b[0;36msp_noise\u001b[0;34m(image, prob)\u001b[0m\n\u001b[1;32m     10\u001b[0m     \u001b[0mprob\u001b[0m\u001b[0;34m:\u001b[0m \u001b[0mProbability\u001b[0m \u001b[0mof\u001b[0m \u001b[0mthe\u001b[0m \u001b[0mnoise\u001b[0m\u001b[0;34m\u001b[0m\u001b[0;34m\u001b[0m\u001b[0m\n\u001b[1;32m     11\u001b[0m     '''\n\u001b[0;32m---> 12\u001b[0;31m     \u001b[0moutput\u001b[0m \u001b[0;34m=\u001b[0m \u001b[0mnp\u001b[0m\u001b[0;34m.\u001b[0m\u001b[0mzeros\u001b[0m\u001b[0;34m(\u001b[0m\u001b[0mimage\u001b[0m\u001b[0;34m.\u001b[0m\u001b[0mshape\u001b[0m\u001b[0;34m,\u001b[0m\u001b[0mnp\u001b[0m\u001b[0;34m.\u001b[0m\u001b[0muint8\u001b[0m\u001b[0;34m)\u001b[0m\u001b[0;34m\u001b[0m\u001b[0;34m\u001b[0m\u001b[0m\n\u001b[0m\u001b[1;32m     13\u001b[0m     \u001b[0mthres\u001b[0m \u001b[0;34m=\u001b[0m \u001b[0;36m1\u001b[0m \u001b[0;34m-\u001b[0m \u001b[0mprob\u001b[0m\u001b[0;34m\u001b[0m\u001b[0;34m\u001b[0m\u001b[0m\n\u001b[1;32m     14\u001b[0m     \u001b[0;32mfor\u001b[0m \u001b[0mi\u001b[0m \u001b[0;32min\u001b[0m \u001b[0mrange\u001b[0m\u001b[0;34m(\u001b[0m\u001b[0mimage\u001b[0m\u001b[0;34m.\u001b[0m\u001b[0mshape\u001b[0m\u001b[0;34m[\u001b[0m\u001b[0;36m0\u001b[0m\u001b[0;34m]\u001b[0m\u001b[0;34m)\u001b[0m\u001b[0;34m:\u001b[0m\u001b[0;34m\u001b[0m\u001b[0;34m\u001b[0m\u001b[0m\n",
      "\u001b[0;31mAttributeError\u001b[0m: 'NoneType' object has no attribute 'shape'"
     ]
    }
   ],
   "source": [
    "cap = cv2.VideoCapture(readfile)\n",
    "Area_raw=[]\n",
    "\n",
    "while True:\n",
    "    read_flag, frame = cap.read()\n",
    "    \n",
    "    if not read_flag:\n",
    "        break\n",
    "    \n",
    "    gray = cv2.cvtColor(frame,cv2.COLOR_RGB2GRAY)\n",
    "    FR = gray.copy()\n",
    "    blur = cv2.GaussianBlur(gray,kernel,0)\n",
    "    \n",
    "    \n",
    "    \n",
    "    ## EyeLid detection\n",
    "    edges = cv2.Canny(blur,80,130,apertureSize = 3)\n",
    "    \n",
    "    if True:\n",
    "        cnt1 = ConMask(edges, c1, (ww,hh))\n",
    "        cnt2 = ConMask(edges, c2, (ww,hh))\n",
    "        cnt3 = ConMask(edges, c3, (2*ww,hh))\n",
    "        cnt4 = ConMask(edges, c4, (2*ww,hh))\n",
    "\n",
    "        xTop = [k[0][0] for k in cnt1]\n",
    "        xTop.extend([k[0][0] for k in cnt3])\n",
    "        yTop = [k[0][1] for k in cnt1]\n",
    "        yTop.extend([k[0][1] for k in cnt3])\n",
    "\n",
    "        xBot = [k[0][0] for k in cnt2]\n",
    "        xBot.extend([k[0][0] for k in cnt4])\n",
    "        yBot = [k[0][1] for k in cnt2]\n",
    "        yBot.extend([k[0][1] for k in cnt4])\n",
    "    \n",
    "    Top = ParaFit(xTop,yTop,w,buffer)\n",
    "    Bot = ParaFit(xBot,yBot,w,buffer)\n",
    "    EyeLid = np.vstack((Top.reshape(100,2),np.flip(Bot.reshape(100,2),0)))\n",
    "    \n",
    "    \n",
    "    \n",
    "    ## mask for EyeLid - eMask\n",
    "    eMask = np.zeros((w, h, 1), dtype='uint8')\n",
    "    cv2.fillPoly(eMask,[EyeLid],255)\n",
    "    ## mask for Reflexions - rMask\n",
    "    negFR = cv2.bitwise_not(gray)\n",
    "    _, rMask = cv2.threshold(negFR,thresh,255,cv2.THRESH_BINARY)\n",
    "    # erosion for larger mask\n",
    "    kM = np.ones((buffer,buffer),np.uint8)\n",
    "    rMask = cv2.erode(rMask,kM,iterations = 1)\n",
    "    Mask = cv2.bitwise_and(eMask,rMask)\n",
    "    \n",
    "    FR = cv2.bitwise_and(FR, FR, mask=Mask)\n",
    "\n",
    "    \n",
    "    \n",
    "    ## Pupil detection\n",
    "    _, pupil = cv2.threshold(gray,thresh,255,cv2.THRESH_BINARY_INV)\n",
    "    contoursP, _ = cv2.findContours(pupil, cv2.RETR_TREE, cv2.CHAIN_APPROX_NONE)\n",
    "\n",
    "    for c in contoursP:\n",
    "        \n",
    "        if len(c) < 4:\n",
    "            continue\n",
    "        \n",
    "        area = cv2.contourArea(c)\n",
    "        \n",
    "        if area<200:\n",
    "            continue\n",
    "        \n",
    "        peri = cv2.arcLength(c, True)\n",
    "        M = cv2.moments(c)# check moments of an image for centroids calaculation\n",
    "        cx = int(M['m10']/M['m00'])\n",
    "        cy = int(M['m01']/M['m00'])\n",
    "        cv2.drawContours(FR,c,index,155)\n",
    "        cv2.drawMarker(FR,(cx,cy),100)\n",
    "        Area_raw.append(area)\n",
    "\n",
    "        \n",
    "    ## Log Planar transform\n",
    "    radius = np.array([cx, w-cx]).max()\n",
    "    Mag = w/np.log(radius)\n",
    "\n",
    "    grayPL = cv2.logPolar(gray,(cx,cy),Mag, flags=cv2.INTER_LINEAR + cv2.WARP_FILL_OUTLIERS)\n",
    "    rGray_PL = cv2.rotate(grayPL, cv2.ROTATE_90_CLOCKWISE)\n",
    "\n",
    "    maskPl = cv2.logPolar(Mask,(cx,cy),Mag, flags=cv2.INTER_LINEAR + cv2.WARP_FILL_OUTLIERS)\n",
    "    rMask_PL = cv2.rotate(maskPl, cv2.ROTATE_90_CLOCKWISE)\n",
    "\n",
    "    ## max Pupil size over planar representation - mPSz\n",
    "    ePL = cv2.Canny(rGray_PL,50,150,apertureSize = 3)\n",
    "    cc = cv2.findContours(ePL,cv2.RETR_TREE, cv2.CHAIN_APPROX_NONE)\n",
    "    cntPl = cc[0][np.argmax([len(i) for i in cc[0]])]\n",
    "    mPSz = np.array([k[0][1] for k in cntPl]).max()\n",
    "\n",
    "    ResG = rGray_PL[mPSz+buffer:,:w]\n",
    "    ResM = rMask_PL[mPSz+buffer:,:w]\n",
    "\n",
    "    nResG = cv2.bitwise_and(ResG,ResG, mask=ResM)\n",
    "    \n",
    "    ## Sobel Filtering\n",
    "#     Mg,_,_ = getGradientMagnitude(nResG)\n",
    "#     Mg=cv2.Canny(nResG,85,95,apertureSize=5)\n",
    "    Mg = nResG\n",
    "    \n",
    "    ResN = cv2.GaussianBlur(sp_noise(Mg,0.1),(3,3),0)\n",
    "    ResN = cv2.bitwise_and(ResN,ResN, mask=cv2.bitwise_not(ResM))\n",
    "    nMg = cv2.bitwise_and(Mg,Mg,mask=ResM)\n",
    "    IMG = nMg+ResN\n",
    "    \n",
    "    IMG = cv2.resize(IMG, winSize)\n",
    "\n",
    "    if True:\n",
    "        cv2.imshow(\"Edges\", edges)\n",
    "        cv2.imshow(\"Contours\", FR)\n",
    "        cv2.imshow('Planar transf', IMG)\n",
    "\n",
    "        if cv2.waitKey(5) & 0xFF == ord('q'):\n",
    "            break\n",
    "\n",
    "cap.release()\n",
    "cv2.waitKey(0)\n",
    "cv2.destroyAllWindows()\n",
    "\n"
   ]
  },
  {
   "cell_type": "code",
   "execution_count": 17,
   "metadata": {},
   "outputs": [
    {
     "data": {
      "text/plain": [
       "[<matplotlib.lines.Line2D at 0x127b60390>]"
      ]
     },
     "execution_count": 17,
     "metadata": {},
     "output_type": "execute_result"
    }
   ],
   "source": [
    "Fr = 120\n",
    "T=np.linspace(1/Fr,len(Area_raw)/Fr,len(Area_raw))\n",
    "T = T.tolist()\n",
    "N=20\n",
    "nData = np.convolve(Area_raw, np.ones((N,))/N, mode='same')\n",
    "plt.plot(T,nData)\n",
    "# plt.ylim(500,1500)"
   ]
  },
  {
   "cell_type": "code",
   "execution_count": null,
   "metadata": {},
   "outputs": [],
   "source": [
    "\n",
    "toto = np.zeros((winSize[1], winSize[0]+2*mir), dtype='uint8')\n",
    "toto[:,:mir]=IMG[:,-mir:]\n",
    "toto[:,-mir:]=IMG[:,:mir]\n",
    "toto[:,mir:-mir]=IMG\n",
    "\n",
    "if True:\n",
    "    res = cv2.matchTemplate(toto,TPL,cv2.TM_CCORR_NORMED)\n",
    "    min_val, max_val, min_loc, max_loc = cv2.minMaxLoc(res)\n",
    "\n",
    "cv2.imshow('TPL', TPL)\n",
    "cv2.imshow('IMG', toto)\n",
    "cv2.imshow('res', res)\n",
    "cv2.waitKey(0)\n",
    "cv2.destroyAllWindows()\n",
    "\n"
   ]
  },
  {
   "cell_type": "code",
   "execution_count": null,
   "metadata": {},
   "outputs": [],
   "source": [
    "max_loc"
   ]
  },
  {
   "cell_type": "code",
   "execution_count": 18,
   "metadata": {},
   "outputs": [
    {
     "ename": "NameError",
     "evalue": "name 'res' is not defined",
     "output_type": "error",
     "traceback": [
      "\u001b[0;31m---------------------------------------------------------------------------\u001b[0m",
      "\u001b[0;31mNameError\u001b[0m                                 Traceback (most recent call last)",
      "\u001b[0;32m<ipython-input-18-f39046bd8d8f>\u001b[0m in \u001b[0;36m<module>\u001b[0;34m\u001b[0m\n\u001b[0;32m----> 1\u001b[0;31m \u001b[0mres\u001b[0m\u001b[0;34m.\u001b[0m\u001b[0mshape\u001b[0m\u001b[0;34m\u001b[0m\u001b[0;34m\u001b[0m\u001b[0m\n\u001b[0m",
      "\u001b[0;31mNameError\u001b[0m: name 'res' is not defined"
     ]
    }
   ],
   "source": [
    "res.shape"
   ]
  },
  {
   "cell_type": "code",
   "execution_count": null,
   "metadata": {},
   "outputs": [],
   "source": [
    "plt.plot(res.ravel(),'.-')"
   ]
  },
  {
   "cell_type": "code",
   "execution_count": null,
   "metadata": {},
   "outputs": [],
   "source": [
    "x=np.linspace(0,51,num=51)\n",
    "y=res.ravel()\n",
    "xth=np.linspace(0,51,101)\n",
    "yth=np.interp(xth, x,y)"
   ]
  },
  {
   "cell_type": "code",
   "execution_count": null,
   "metadata": {},
   "outputs": [],
   "source": [
    "plt.plot(x,y,'.-r')\n",
    "plt.plot(xth,yth,'+k')"
   ]
  },
  {
   "cell_type": "code",
   "execution_count": null,
   "metadata": {},
   "outputs": [],
   "source": []
  }
 ],
 "metadata": {
  "kernelspec": {
   "display_name": "Python 3",
   "language": "python",
   "name": "python3"
  },
  "language_info": {
   "codemirror_mode": {
    "name": "ipython",
    "version": 3
   },
   "file_extension": ".py",
   "mimetype": "text/x-python",
   "name": "python",
   "nbconvert_exporter": "python",
   "pygments_lexer": "ipython3",
   "version": "3.7.6"
  }
 },
 "nbformat": 4,
 "nbformat_minor": 4
}
